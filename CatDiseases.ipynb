{
 "cells": [
  {
   "cell_type": "code",
   "execution_count": 1,
   "metadata": {
    "execution": {
     "iopub.execute_input": "2023-08-19T14:53:11.740309Z",
     "iopub.status.busy": "2023-08-19T14:53:11.739951Z",
     "iopub.status.idle": "2023-08-19T14:53:11.747480Z",
     "shell.execute_reply": "2023-08-19T14:53:11.746379Z",
     "shell.execute_reply.started": "2023-08-19T14:53:11.740279Z"
    }
   },
   "outputs": [
    {
     "name": "stderr",
     "output_type": "stream",
     "text": [
      "C:\\Users\\Talha Dar\\anaconda3\\lib\\site-packages\\scipy\\__init__.py:155: UserWarning: A NumPy version >=1.18.5 and <1.25.0 is required for this version of SciPy (detected version 1.25.2\n",
      "  warnings.warn(f\"A NumPy version >={np_minversion} and <{np_maxversion}\"\n"
     ]
    }
   ],
   "source": [
    "import pandas as pd\n",
    "import numpy as np\n",
    "import tensorflow as tf\n",
    "from tensorflow.keras.preprocessing.text import Tokenizer\n",
    "from tensorflow.keras.preprocessing.sequence import pad_sequences\n",
    "from tensorflow.keras.layers import Input, Embedding, Dense, Flatten\n",
    "from tensorflow.keras.models import Model"
   ]
  },
  {
   "cell_type": "code",
   "execution_count": 2,
   "metadata": {
    "execution": {
     "iopub.execute_input": "2023-08-19T14:02:10.698981Z",
     "iopub.status.busy": "2023-08-19T14:02:10.698364Z",
     "iopub.status.idle": "2023-08-19T14:02:10.722627Z",
     "shell.execute_reply": "2023-08-19T14:02:10.721729Z",
     "shell.execute_reply.started": "2023-08-19T14:02:10.698950Z"
    }
   },
   "outputs": [
    {
     "ename": "FileNotFoundError",
     "evalue": "[Errno 2] No such file or directory: '/kaggle/input/cat-diseases/Cat dieases.csv'",
     "output_type": "error",
     "traceback": [
      "\u001b[1;31m---------------------------------------------------------------------------\u001b[0m",
      "\u001b[1;31mFileNotFoundError\u001b[0m                         Traceback (most recent call last)",
      "\u001b[1;32m~\\AppData\\Local\\Temp\\ipykernel_13784\\1473172259.py\u001b[0m in \u001b[0;36m<module>\u001b[1;34m\u001b[0m\n\u001b[1;32m----> 1\u001b[1;33m \u001b[0mdata\u001b[0m \u001b[1;33m=\u001b[0m \u001b[0mpd\u001b[0m\u001b[1;33m.\u001b[0m\u001b[0mread_csv\u001b[0m\u001b[1;33m(\u001b[0m\u001b[1;34m'/kaggle/input/cat-diseases/Cat dieases.csv'\u001b[0m\u001b[1;33m,\u001b[0m \u001b[0mencoding\u001b[0m\u001b[1;33m=\u001b[0m\u001b[1;34m'utf-8'\u001b[0m\u001b[1;33m,\u001b[0m \u001b[0mheader\u001b[0m\u001b[1;33m=\u001b[0m\u001b[1;36m0\u001b[0m\u001b[1;33m)\u001b[0m\u001b[1;33m\u001b[0m\u001b[1;33m\u001b[0m\u001b[0m\n\u001b[0m",
      "\u001b[1;32m~\\anaconda3\\lib\\site-packages\\pandas\\util\\_decorators.py\u001b[0m in \u001b[0;36mwrapper\u001b[1;34m(*args, **kwargs)\u001b[0m\n\u001b[0;32m    309\u001b[0m                     \u001b[0mstacklevel\u001b[0m\u001b[1;33m=\u001b[0m\u001b[0mstacklevel\u001b[0m\u001b[1;33m,\u001b[0m\u001b[1;33m\u001b[0m\u001b[1;33m\u001b[0m\u001b[0m\n\u001b[0;32m    310\u001b[0m                 )\n\u001b[1;32m--> 311\u001b[1;33m             \u001b[1;32mreturn\u001b[0m \u001b[0mfunc\u001b[0m\u001b[1;33m(\u001b[0m\u001b[1;33m*\u001b[0m\u001b[0margs\u001b[0m\u001b[1;33m,\u001b[0m \u001b[1;33m**\u001b[0m\u001b[0mkwargs\u001b[0m\u001b[1;33m)\u001b[0m\u001b[1;33m\u001b[0m\u001b[1;33m\u001b[0m\u001b[0m\n\u001b[0m\u001b[0;32m    312\u001b[0m \u001b[1;33m\u001b[0m\u001b[0m\n\u001b[0;32m    313\u001b[0m         \u001b[1;32mreturn\u001b[0m \u001b[0mwrapper\u001b[0m\u001b[1;33m\u001b[0m\u001b[1;33m\u001b[0m\u001b[0m\n",
      "\u001b[1;32m~\\anaconda3\\lib\\site-packages\\pandas\\io\\parsers\\readers.py\u001b[0m in \u001b[0;36mread_csv\u001b[1;34m(filepath_or_buffer, sep, delimiter, header, names, index_col, usecols, squeeze, prefix, mangle_dupe_cols, dtype, engine, converters, true_values, false_values, skipinitialspace, skiprows, skipfooter, nrows, na_values, keep_default_na, na_filter, verbose, skip_blank_lines, parse_dates, infer_datetime_format, keep_date_col, date_parser, dayfirst, cache_dates, iterator, chunksize, compression, thousands, decimal, lineterminator, quotechar, quoting, doublequote, escapechar, comment, encoding, encoding_errors, dialect, error_bad_lines, warn_bad_lines, on_bad_lines, delim_whitespace, low_memory, memory_map, float_precision, storage_options)\u001b[0m\n\u001b[0;32m    676\u001b[0m     \u001b[0mkwds\u001b[0m\u001b[1;33m.\u001b[0m\u001b[0mupdate\u001b[0m\u001b[1;33m(\u001b[0m\u001b[0mkwds_defaults\u001b[0m\u001b[1;33m)\u001b[0m\u001b[1;33m\u001b[0m\u001b[1;33m\u001b[0m\u001b[0m\n\u001b[0;32m    677\u001b[0m \u001b[1;33m\u001b[0m\u001b[0m\n\u001b[1;32m--> 678\u001b[1;33m     \u001b[1;32mreturn\u001b[0m \u001b[0m_read\u001b[0m\u001b[1;33m(\u001b[0m\u001b[0mfilepath_or_buffer\u001b[0m\u001b[1;33m,\u001b[0m \u001b[0mkwds\u001b[0m\u001b[1;33m)\u001b[0m\u001b[1;33m\u001b[0m\u001b[1;33m\u001b[0m\u001b[0m\n\u001b[0m\u001b[0;32m    679\u001b[0m \u001b[1;33m\u001b[0m\u001b[0m\n\u001b[0;32m    680\u001b[0m \u001b[1;33m\u001b[0m\u001b[0m\n",
      "\u001b[1;32m~\\anaconda3\\lib\\site-packages\\pandas\\io\\parsers\\readers.py\u001b[0m in \u001b[0;36m_read\u001b[1;34m(filepath_or_buffer, kwds)\u001b[0m\n\u001b[0;32m    573\u001b[0m \u001b[1;33m\u001b[0m\u001b[0m\n\u001b[0;32m    574\u001b[0m     \u001b[1;31m# Create the parser.\u001b[0m\u001b[1;33m\u001b[0m\u001b[1;33m\u001b[0m\u001b[0m\n\u001b[1;32m--> 575\u001b[1;33m     \u001b[0mparser\u001b[0m \u001b[1;33m=\u001b[0m \u001b[0mTextFileReader\u001b[0m\u001b[1;33m(\u001b[0m\u001b[0mfilepath_or_buffer\u001b[0m\u001b[1;33m,\u001b[0m \u001b[1;33m**\u001b[0m\u001b[0mkwds\u001b[0m\u001b[1;33m)\u001b[0m\u001b[1;33m\u001b[0m\u001b[1;33m\u001b[0m\u001b[0m\n\u001b[0m\u001b[0;32m    576\u001b[0m \u001b[1;33m\u001b[0m\u001b[0m\n\u001b[0;32m    577\u001b[0m     \u001b[1;32mif\u001b[0m \u001b[0mchunksize\u001b[0m \u001b[1;32mor\u001b[0m \u001b[0miterator\u001b[0m\u001b[1;33m:\u001b[0m\u001b[1;33m\u001b[0m\u001b[1;33m\u001b[0m\u001b[0m\n",
      "\u001b[1;32m~\\anaconda3\\lib\\site-packages\\pandas\\io\\parsers\\readers.py\u001b[0m in \u001b[0;36m__init__\u001b[1;34m(self, f, engine, **kwds)\u001b[0m\n\u001b[0;32m    930\u001b[0m \u001b[1;33m\u001b[0m\u001b[0m\n\u001b[0;32m    931\u001b[0m         \u001b[0mself\u001b[0m\u001b[1;33m.\u001b[0m\u001b[0mhandles\u001b[0m\u001b[1;33m:\u001b[0m \u001b[0mIOHandles\u001b[0m \u001b[1;33m|\u001b[0m \u001b[1;32mNone\u001b[0m \u001b[1;33m=\u001b[0m \u001b[1;32mNone\u001b[0m\u001b[1;33m\u001b[0m\u001b[1;33m\u001b[0m\u001b[0m\n\u001b[1;32m--> 932\u001b[1;33m         \u001b[0mself\u001b[0m\u001b[1;33m.\u001b[0m\u001b[0m_engine\u001b[0m \u001b[1;33m=\u001b[0m \u001b[0mself\u001b[0m\u001b[1;33m.\u001b[0m\u001b[0m_make_engine\u001b[0m\u001b[1;33m(\u001b[0m\u001b[0mf\u001b[0m\u001b[1;33m,\u001b[0m \u001b[0mself\u001b[0m\u001b[1;33m.\u001b[0m\u001b[0mengine\u001b[0m\u001b[1;33m)\u001b[0m\u001b[1;33m\u001b[0m\u001b[1;33m\u001b[0m\u001b[0m\n\u001b[0m\u001b[0;32m    933\u001b[0m \u001b[1;33m\u001b[0m\u001b[0m\n\u001b[0;32m    934\u001b[0m     \u001b[1;32mdef\u001b[0m \u001b[0mclose\u001b[0m\u001b[1;33m(\u001b[0m\u001b[0mself\u001b[0m\u001b[1;33m)\u001b[0m\u001b[1;33m:\u001b[0m\u001b[1;33m\u001b[0m\u001b[1;33m\u001b[0m\u001b[0m\n",
      "\u001b[1;32m~\\anaconda3\\lib\\site-packages\\pandas\\io\\parsers\\readers.py\u001b[0m in \u001b[0;36m_make_engine\u001b[1;34m(self, f, engine)\u001b[0m\n\u001b[0;32m   1214\u001b[0m             \u001b[1;31m# \"Union[str, PathLike[str], ReadCsvBuffer[bytes], ReadCsvBuffer[str]]\"\u001b[0m\u001b[1;33m\u001b[0m\u001b[1;33m\u001b[0m\u001b[0m\n\u001b[0;32m   1215\u001b[0m             \u001b[1;31m# , \"str\", \"bool\", \"Any\", \"Any\", \"Any\", \"Any\", \"Any\"\u001b[0m\u001b[1;33m\u001b[0m\u001b[1;33m\u001b[0m\u001b[0m\n\u001b[1;32m-> 1216\u001b[1;33m             self.handles = get_handle(  # type: ignore[call-overload]\n\u001b[0m\u001b[0;32m   1217\u001b[0m                 \u001b[0mf\u001b[0m\u001b[1;33m,\u001b[0m\u001b[1;33m\u001b[0m\u001b[1;33m\u001b[0m\u001b[0m\n\u001b[0;32m   1218\u001b[0m                 \u001b[0mmode\u001b[0m\u001b[1;33m,\u001b[0m\u001b[1;33m\u001b[0m\u001b[1;33m\u001b[0m\u001b[0m\n",
      "\u001b[1;32m~\\anaconda3\\lib\\site-packages\\pandas\\io\\common.py\u001b[0m in \u001b[0;36mget_handle\u001b[1;34m(path_or_buf, mode, encoding, compression, memory_map, is_text, errors, storage_options)\u001b[0m\n\u001b[0;32m    784\u001b[0m         \u001b[1;32mif\u001b[0m \u001b[0mioargs\u001b[0m\u001b[1;33m.\u001b[0m\u001b[0mencoding\u001b[0m \u001b[1;32mand\u001b[0m \u001b[1;34m\"b\"\u001b[0m \u001b[1;32mnot\u001b[0m \u001b[1;32min\u001b[0m \u001b[0mioargs\u001b[0m\u001b[1;33m.\u001b[0m\u001b[0mmode\u001b[0m\u001b[1;33m:\u001b[0m\u001b[1;33m\u001b[0m\u001b[1;33m\u001b[0m\u001b[0m\n\u001b[0;32m    785\u001b[0m             \u001b[1;31m# Encoding\u001b[0m\u001b[1;33m\u001b[0m\u001b[1;33m\u001b[0m\u001b[0m\n\u001b[1;32m--> 786\u001b[1;33m             handle = open(\n\u001b[0m\u001b[0;32m    787\u001b[0m                 \u001b[0mhandle\u001b[0m\u001b[1;33m,\u001b[0m\u001b[1;33m\u001b[0m\u001b[1;33m\u001b[0m\u001b[0m\n\u001b[0;32m    788\u001b[0m                 \u001b[0mioargs\u001b[0m\u001b[1;33m.\u001b[0m\u001b[0mmode\u001b[0m\u001b[1;33m,\u001b[0m\u001b[1;33m\u001b[0m\u001b[1;33m\u001b[0m\u001b[0m\n",
      "\u001b[1;31mFileNotFoundError\u001b[0m: [Errno 2] No such file or directory: '/kaggle/input/cat-diseases/Cat dieases.csv'"
     ]
    }
   ],
   "source": [
    "data = pd.read_csv('/kaggle/input/cat-diseases/Cat dieases.csv', encoding='utf-8', header=0) "
   ]
  },
  {
   "cell_type": "code",
   "execution_count": null,
   "metadata": {
    "execution": {
     "iopub.execute_input": "2023-08-19T14:17:11.727789Z",
     "iopub.status.busy": "2023-08-19T14:17:11.727260Z",
     "iopub.status.idle": "2023-08-19T14:17:11.745593Z",
     "shell.execute_reply": "2023-08-19T14:17:11.744494Z",
     "shell.execute_reply.started": "2023-08-19T14:17:11.727744Z"
    }
   },
   "outputs": [],
   "source": [
    "data.head()"
   ]
  },
  {
   "cell_type": "code",
   "execution_count": null,
   "metadata": {
    "execution": {
     "iopub.execute_input": "2023-08-19T14:02:19.087468Z",
     "iopub.status.busy": "2023-08-19T14:02:19.087080Z",
     "iopub.status.idle": "2023-08-19T14:02:19.092810Z",
     "shell.execute_reply": "2023-08-19T14:02:19.091774Z",
     "shell.execute_reply.started": "2023-08-19T14:02:19.087417Z"
    }
   },
   "outputs": [],
   "source": [
    "data.columns = data.columns.str.strip()"
   ]
  },
  {
   "cell_type": "code",
   "execution_count": null,
   "metadata": {
    "execution": {
     "iopub.execute_input": "2023-08-19T14:02:25.512591Z",
     "iopub.status.busy": "2023-08-19T14:02:25.512177Z",
     "iopub.status.idle": "2023-08-19T14:02:25.529492Z",
     "shell.execute_reply": "2023-08-19T14:02:25.528333Z",
     "shell.execute_reply.started": "2023-08-19T14:02:25.512557Z"
    }
   },
   "outputs": [],
   "source": [
    "print(data.columns)\n",
    "print(data.head())"
   ]
  },
  {
   "cell_type": "code",
   "execution_count": null,
   "metadata": {
    "execution": {
     "iopub.execute_input": "2023-08-19T14:54:57.062093Z",
     "iopub.status.busy": "2023-08-19T14:54:57.061347Z",
     "iopub.status.idle": "2023-08-19T14:54:57.067226Z",
     "shell.execute_reply": "2023-08-19T14:54:57.066177Z",
     "shell.execute_reply.started": "2023-08-19T14:54:57.062060Z"
    }
   },
   "outputs": [],
   "source": [
    "print(data.columns.tolist())"
   ]
  },
  {
   "cell_type": "code",
   "execution_count": null,
   "metadata": {
    "execution": {
     "iopub.execute_input": "2023-08-19T14:45:04.499370Z",
     "iopub.status.busy": "2023-08-19T14:45:04.499010Z",
     "iopub.status.idle": "2023-08-19T14:45:04.508735Z",
     "shell.execute_reply": "2023-08-19T14:45:04.507655Z",
     "shell.execute_reply.started": "2023-08-19T14:45:04.499340Z"
    }
   },
   "outputs": [],
   "source": [
    "#data['Symptoms'] = data['Symptoms'].str.lower().str.replace('[^\\w\\s]', '')\n",
    "#data['Cat Diseases'] = data['Cat Diseases'].str.lower()\n",
    "#data['Medication'] = data['Medication'].str.lower()"
   ]
  },
  {
   "cell_type": "code",
   "execution_count": null,
   "metadata": {
    "execution": {
     "iopub.execute_input": "2023-08-19T14:55:01.936600Z",
     "iopub.status.busy": "2023-08-19T14:55:01.936222Z",
     "iopub.status.idle": "2023-08-19T14:55:01.941914Z",
     "shell.execute_reply": "2023-08-19T14:55:01.940430Z",
     "shell.execute_reply.started": "2023-08-19T14:55:01.936568Z"
    }
   },
   "outputs": [],
   "source": [
    "symptoms = data['Symptoms']\n",
    "diseases = data['Cat Diseases']\n",
    "medications = data['Medication']"
   ]
  },
  {
   "cell_type": "code",
   "execution_count": null,
   "metadata": {
    "execution": {
     "iopub.execute_input": "2023-08-19T14:45:18.065296Z",
     "iopub.status.busy": "2023-08-19T14:45:18.064904Z",
     "iopub.status.idle": "2023-08-19T14:45:18.069962Z",
     "shell.execute_reply": "2023-08-19T14:45:18.068759Z",
     "shell.execute_reply.started": "2023-08-19T14:45:18.065263Z"
    }
   },
   "outputs": [],
   "source": [
    "# Create mappings for symptoms to diseases and medications\n",
    "#symptoms_to_diseases = dict(zip(data['Symptoms'], data['Cat Diseases']))\n",
    "#symptoms_to_medications = dict(zip(data['Symptoms'], data['Medication']))"
   ]
  },
  {
   "cell_type": "code",
   "execution_count": null,
   "metadata": {
    "execution": {
     "iopub.execute_input": "2023-08-19T14:55:04.865925Z",
     "iopub.status.busy": "2023-08-19T14:55:04.865532Z",
     "iopub.status.idle": "2023-08-19T14:55:04.886072Z",
     "shell.execute_reply": "2023-08-19T14:55:04.884965Z",
     "shell.execute_reply.started": "2023-08-19T14:55:04.865894Z"
    }
   },
   "outputs": [],
   "source": [
    "tokenizer = Tokenizer()\n",
    "tokenizer.fit_on_texts(symptoms)\n",
    "symptom_sequences = tokenizer.texts_to_sequences(symptoms)\n",
    "symptom_sequences_padded = pad_sequences(symptom_sequences, padding='post')"
   ]
  },
  {
   "cell_type": "code",
   "execution_count": null,
   "metadata": {
    "execution": {
     "iopub.execute_input": "2023-08-19T14:55:07.331591Z",
     "iopub.status.busy": "2023-08-19T14:55:07.331194Z",
     "iopub.status.idle": "2023-08-19T14:55:07.339459Z",
     "shell.execute_reply": "2023-08-19T14:55:07.338500Z",
     "shell.execute_reply.started": "2023-08-19T14:55:07.331560Z"
    }
   },
   "outputs": [],
   "source": [
    "# Convert diseases and medications to numerical labels\n",
    "disease_labels = pd.factorize(diseases)[0]\n",
    "medication_labels = pd.factorize(medications)[0]"
   ]
  },
  {
   "cell_type": "code",
   "execution_count": null,
   "metadata": {
    "execution": {
     "iopub.execute_input": "2023-08-19T14:55:29.105488Z",
     "iopub.status.busy": "2023-08-19T14:55:29.104407Z",
     "iopub.status.idle": "2023-08-19T14:55:40.403642Z",
     "shell.execute_reply": "2023-08-19T14:55:40.402331Z",
     "shell.execute_reply.started": "2023-08-19T14:55:29.105411Z"
    }
   },
   "outputs": [],
   "source": [
    "# Create model architecture\n",
    "input_layer = Input(shape=(symptom_sequences_padded.shape[1],))\n",
    "embedding_layer = Embedding(input_dim=len(tokenizer.word_index) + 1, output_dim=128)(input_layer)\n",
    "flatten_layer = Flatten()(embedding_layer)\n",
    "shared_dense_layer = Dense(128, activation='relu')(flatten_layer)\n",
    "disease_output = Dense(len(np.unique(disease_labels)), activation='softmax')(shared_dense_layer)\n",
    "medication_output = Dense(len(np.unique(medication_labels)), activation='softmax')(shared_dense_layer)\n",
    "\n",
    "model = Model(inputs=input_layer, outputs=[disease_output, medication_output])\n",
    "\n",
    "model.compile(optimizer='adam', loss='sparse_categorical_crossentropy', metrics=['accuracy'])\n",
    "\n",
    "# Train the model\n",
    "model.fit(symptom_sequences_padded, [disease_labels, medication_labels], epochs=30, batch_size=32)"
   ]
  },
  {
   "cell_type": "code",
   "execution_count": null,
   "metadata": {
    "execution": {
     "iopub.execute_input": "2023-08-19T14:56:44.757520Z",
     "iopub.status.busy": "2023-08-19T14:56:44.757100Z",
     "iopub.status.idle": "2023-08-19T14:56:44.827388Z",
     "shell.execute_reply": "2023-08-19T14:56:44.826317Z",
     "shell.execute_reply.started": "2023-08-19T14:56:44.757479Z"
    }
   },
   "outputs": [],
   "source": [
    "# Example prediction\n",
    "new_symptom = \"Itching, redness, skin rashes\"\n",
    "new_symptom_sequence = tokenizer.texts_to_sequences([new_symptom])\n",
    "new_symptom_padded = pad_sequences(new_symptom_sequence, maxlen=symptom_sequences_padded.shape[1], padding='post')\n",
    "predicted_disease, predicted_medication = model.predict(new_symptom_padded)"
   ]
  },
  {
   "cell_type": "code",
   "execution_count": null,
   "metadata": {
    "execution": {
     "iopub.execute_input": "2023-08-19T14:56:45.013199Z",
     "iopub.status.busy": "2023-08-19T14:56:45.012876Z",
     "iopub.status.idle": "2023-08-19T14:56:45.020735Z",
     "shell.execute_reply": "2023-08-19T14:56:45.019581Z",
     "shell.execute_reply.started": "2023-08-19T14:56:45.013172Z"
    }
   },
   "outputs": [],
   "source": [
    "# Convert predicted indices back to disease and medication labels\n",
    "predicted_disease_label = np.argmax(predicted_disease)\n",
    "predicted_medication_label = np.argmax(predicted_medication)\n",
    "\n",
    "# Convert numerical labels back to original disease and medication names\n",
    "predicted_disease_name = pd.unique(diseases)[predicted_disease_label]\n",
    "predicted_medication_name = pd.unique(medications)[predicted_medication_label]\n",
    "\n",
    "print(\"Predicted Disease:\", predicted_disease_name)\n",
    "print(\"Predicted Medication:\", predicted_medication_name)"
   ]
  },
  {
   "cell_type": "code",
   "execution_count": null,
   "metadata": {},
   "outputs": [],
   "source": []
  }
 ],
 "metadata": {
  "kernelspec": {
   "display_name": "Python 3 (ipykernel)",
   "language": "python",
   "name": "python3"
  },
  "language_info": {
   "codemirror_mode": {
    "name": "ipython",
    "version": 3
   },
   "file_extension": ".py",
   "mimetype": "text/x-python",
   "name": "python",
   "nbconvert_exporter": "python",
   "pygments_lexer": "ipython3",
   "version": "3.9.13"
  }
 },
 "nbformat": 4,
 "nbformat_minor": 4
}
